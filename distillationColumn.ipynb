{
 "cells": [
  {
   "cell_type": "code",
   "execution_count": 204,
   "id": "f1f35f94-e053-4db3-9df9-d4f03a5dddd3",
   "metadata": {},
   "outputs": [
    {
     "data": {
      "text/html": [
       "<div>\n",
       "<style scoped>\n",
       "    .dataframe tbody tr th:only-of-type {\n",
       "        vertical-align: middle;\n",
       "    }\n",
       "\n",
       "    .dataframe tbody tr th {\n",
       "        vertical-align: top;\n",
       "    }\n",
       "\n",
       "    .dataframe thead th {\n",
       "        text-align: right;\n",
       "    }\n",
       "</style>\n",
       "<table border=\"1\" class=\"dataframe\">\n",
       "  <thead>\n",
       "    <tr style=\"text-align: right;\">\n",
       "      <th></th>\n",
       "      <th>P_in (atm)</th>\n",
       "      <th>T_in (°C)</th>\n",
       "      <th>Flow Rate (kg/h)</th>\n",
       "      <th>Energy Consumed (kWh)</th>\n",
       "      <th>Efficiency</th>\n",
       "      <th>N2_out (%)</th>\n",
       "      <th>O2_out (%)</th>\n",
       "      <th>Ar_out (%)</th>\n",
       "    </tr>\n",
       "  </thead>\n",
       "  <tbody>\n",
       "    <tr>\n",
       "      <th>0</th>\n",
       "      <td>7.927833</td>\n",
       "      <td>-192.505419</td>\n",
       "      <td>540.986585</td>\n",
       "      <td>532.644432</td>\n",
       "      <td>0.862150</td>\n",
       "      <td>99.843313</td>\n",
       "      <td>99.582190</td>\n",
       "      <td>95.151271</td>\n",
       "    </tr>\n",
       "    <tr>\n",
       "      <th>1</th>\n",
       "      <td>7.492813</td>\n",
       "      <td>-182.902356</td>\n",
       "      <td>511.454057</td>\n",
       "      <td>500.344703</td>\n",
       "      <td>0.840769</td>\n",
       "      <td>99.750000</td>\n",
       "      <td>99.422797</td>\n",
       "      <td>94.940490</td>\n",
       "    </tr>\n",
       "    <tr>\n",
       "      <th>2</th>\n",
       "      <td>5.064012</td>\n",
       "      <td>-196.957927</td>\n",
       "      <td>479.519522</td>\n",
       "      <td>482.689156</td>\n",
       "      <td>0.856736</td>\n",
       "      <td>99.834060</td>\n",
       "      <td>99.572726</td>\n",
       "      <td>95.008946</td>\n",
       "    </tr>\n",
       "    <tr>\n",
       "      <th>3</th>\n",
       "      <td>7.921598</td>\n",
       "      <td>-192.678923</td>\n",
       "      <td>546.578832</td>\n",
       "      <td>538.505973</td>\n",
       "      <td>0.862466</td>\n",
       "      <td>99.847870</td>\n",
       "      <td>99.600000</td>\n",
       "      <td>95.188169</td>\n",
       "    </tr>\n",
       "    <tr>\n",
       "      <th>4</th>\n",
       "      <td>7.098203</td>\n",
       "      <td>-196.953597</td>\n",
       "      <td>514.703653</td>\n",
       "      <td>510.917058</td>\n",
       "      <td>0.866898</td>\n",
       "      <td>99.909716</td>\n",
       "      <td>99.600000</td>\n",
       "      <td>95.167142</td>\n",
       "    </tr>\n",
       "  </tbody>\n",
       "</table>\n",
       "</div>"
      ],
      "text/plain": [
       "   P_in (atm)   T_in (°C)  Flow Rate (kg/h)  Energy Consumed (kWh)  \\\n",
       "0    7.927833 -192.505419        540.986585             532.644432   \n",
       "1    7.492813 -182.902356        511.454057             500.344703   \n",
       "2    5.064012 -196.957927        479.519522             482.689156   \n",
       "3    7.921598 -192.678923        546.578832             538.505973   \n",
       "4    7.098203 -196.953597        514.703653             510.917058   \n",
       "\n",
       "   Efficiency  N2_out (%)  O2_out (%)  Ar_out (%)  \n",
       "0    0.862150   99.843313   99.582190   95.151271  \n",
       "1    0.840769   99.750000   99.422797   94.940490  \n",
       "2    0.856736   99.834060   99.572726   95.008946  \n",
       "3    0.862466   99.847870   99.600000   95.188169  \n",
       "4    0.866898   99.909716   99.600000   95.167142  "
      ]
     },
     "execution_count": 204,
     "metadata": {},
     "output_type": "execute_result"
    }
   ],
   "source": [
    "import numpy as np\n",
    "import pandas as pd\n",
    "from sklearn.model_selection import train_test_split\n",
    "from sklearn.metrics import mean_absolute_error, mean_squared_error, r2_score\n",
    "from sklearn.linear_model import (\n",
    "    LinearRegression, Ridge, Lasso, ElasticNet, BayesianRidge, PassiveAggressiveRegressor\n",
    ")\n",
    "from sklearn.ensemble import RandomForestRegressor, GradientBoostingRegressor\n",
    "from tqdm.auto import tqdm\n",
    "\n",
    "df = pd.read_csv(\"/home/titansax/simulations/better_air_separation_data_2000.csv\");\n",
    "\n",
    "# Load columns\n",
    "\n",
    "df.head()\n"
   ]
  },
  {
   "cell_type": "code",
   "execution_count": 205,
   "id": "7e83c3e9-d6fd-4c96-bfec-50b0e754e81f",
   "metadata": {},
   "outputs": [
    {
     "data": {
      "text/plain": [
       "Index(['P_in (atm)', 'T_in (°C)', 'Flow Rate (kg/h)', 'Energy Consumed (kWh)',\n",
       "       'Efficiency', 'N2_out (%)', 'O2_out (%)', 'Ar_out (%)'],\n",
       "      dtype='object')"
      ]
     },
     "execution_count": 205,
     "metadata": {},
     "output_type": "execute_result"
    }
   ],
   "source": [
    "# Colum names array\n",
    "\n",
    "df.columns\n"
   ]
  },
  {
   "cell_type": "code",
   "execution_count": 206,
   "id": "f985416c-6a11-4947-81d4-b9e646678931",
   "metadata": {},
   "outputs": [
    {
     "name": "stdout",
     "output_type": "stream",
     "text": [
      "<class 'pandas.core.frame.DataFrame'>\n",
      "RangeIndex: 2000 entries, 0 to 1999\n",
      "Data columns (total 8 columns):\n",
      " #   Column                 Non-Null Count  Dtype  \n",
      "---  ------                 --------------  -----  \n",
      " 0   P_in (atm)             2000 non-null   float64\n",
      " 1   T_in (°C)              2000 non-null   float64\n",
      " 2   Flow Rate (kg/h)       2000 non-null   float64\n",
      " 3   Energy Consumed (kWh)  2000 non-null   float64\n",
      " 4   Efficiency             2000 non-null   float64\n",
      " 5   N2_out (%)             2000 non-null   float64\n",
      " 6   O2_out (%)             2000 non-null   float64\n",
      " 7   Ar_out (%)             2000 non-null   float64\n",
      "dtypes: float64(8)\n",
      "memory usage: 125.1 KB\n"
     ]
    }
   ],
   "source": [
    "# Check data types\n",
    "\n",
    "df.info()"
   ]
  },
  {
   "cell_type": "code",
   "execution_count": 207,
   "id": "0327f5bf-4deb-46b5-b8e1-382ac2695991",
   "metadata": {},
   "outputs": [
    {
     "data": {
      "text/plain": [
       "P_in (atm)               0\n",
       "T_in (°C)                0\n",
       "Flow Rate (kg/h)         0\n",
       "Energy Consumed (kWh)    0\n",
       "Efficiency               0\n",
       "N2_out (%)               0\n",
       "O2_out (%)               0\n",
       "Ar_out (%)               0\n",
       "dtype: int64"
      ]
     },
     "execution_count": 207,
     "metadata": {},
     "output_type": "execute_result"
    }
   ],
   "source": [
    "    # Check null values\n",
    "    \n",
    "    df.isnull().sum()"
   ]
  },
  {
   "cell_type": "code",
   "execution_count": 208,
   "id": "da693d7a-c219-463b-ad6c-d2e84c6da106",
   "metadata": {},
   "outputs": [
    {
     "data": {
      "text/plain": [
       "P_in (atm)               2000\n",
       "T_in (°C)                2000\n",
       "Flow Rate (kg/h)         2000\n",
       "Energy Consumed (kWh)    2000\n",
       "Efficiency               2000\n",
       "N2_out (%)               1512\n",
       "O2_out (%)               1347\n",
       "Ar_out (%)               2000\n",
       "dtype: int64"
      ]
     },
     "execution_count": 208,
     "metadata": {},
     "output_type": "execute_result"
    }
   ],
   "source": [
    "# Check number of unique values\n",
    "\n",
    "df.nunique()"
   ]
  },
  {
   "cell_type": "code",
   "execution_count": 209,
   "id": "01d5ec9e-8a6b-40f1-9c6c-24029056e37f",
   "metadata": {},
   "outputs": [
    {
     "name": "stdout",
     "output_type": "stream",
     "text": [
      "        P_in (atm)    T_in (°C)  Flow Rate (kg/h)  Energy Consumed (kWh)  \\\n",
      "count  2000.000000  2000.000000       2000.000000            2000.000000   \n",
      "mean      6.502714  -189.981542        499.914583             500.037136   \n",
      "std       0.861788     5.718078         19.786910              16.044703   \n",
      "min       5.000161  -199.995625        443.781703             456.475091   \n",
      "1%        5.030961  -199.854653        458.652615             465.643337   \n",
      "50%       6.537795  -189.968706        500.257496             500.334271   \n",
      "99%       7.971935  -180.192172        541.595155             533.012676   \n",
      "max       7.999508  -180.002020        553.384510             552.078284   \n",
      "\n",
      "        Efficiency   N2_out (%)   O2_out (%)   Ar_out (%)  \n",
      "count  2000.000000  2000.000000  2000.000000  2000.000000  \n",
      "mean      0.849977    99.808024    99.499884    94.999323  \n",
      "std       0.012179     0.052098     0.074152     0.127837  \n",
      "min       0.823347    99.750000    99.400000    94.634274  \n",
      "1%        0.825783    99.750000    99.400000    94.725049  \n",
      "50%       0.850346    99.802041    99.499380    95.002430  \n",
      "99%       0.873512    99.929095    99.600000    95.260280  \n",
      "max       0.876651    99.950000    99.600000    95.332345  \n"
     ]
    }
   ],
   "source": [
    "# Eliminar filas con valores nulos\n",
    "df = df.dropna()\n",
    "\n",
    "# Verificar si hay valores atípicos\n",
    "print(df.describe(percentiles=[0.01, 0.99]))"
   ]
  },
  {
   "cell_type": "code",
   "execution_count": 210,
   "id": "80dd3aee-da3a-4a6f-b9c4-1f069954afd1",
   "metadata": {},
   "outputs": [
    {
     "name": "stdout",
     "output_type": "stream",
     "text": [
      "Random Forest Precisión R²: 0.8694\n",
      "Modelo Random Forest guardado como 'random_forest_model.pkl'\n"
     ]
    }
   ],
   "source": [
    "import joblib\n",
    "from sklearn.ensemble import RandomForestRegressor\n",
    "from sklearn.model_selection import train_test_split\n",
    "from sklearn.metrics import r2_score\n",
    "\n",
    "# Variables de entrada y salida\n",
    "X = df[['P_in (atm)', 'T_in (°C)', 'Flow Rate (kg/h)', 'Energy Consumed (kWh)', 'Efficiency']]\n",
    "Y = df[['N2_out (%)', 'O2_out (%)', 'Ar_out (%)']]\n",
    "\n",
    "# División en entrenamiento y prueba\n",
    "X_train, X_test, Y_train, Y_test = train_test_split(X, Y, test_size=0.2, random_state=42)\n",
    "\n",
    "# Entrenar modelo\n",
    "modelo_rf = RandomForestRegressor(n_estimators=100, random_state=42)\n",
    "modelo_rf.fit(X_train, Y_train)\n",
    "\n",
    "# Evaluar modelo\n",
    "Y_pred = modelo_rf.predict(X_test)\n",
    "score = r2_score(Y_test, Y_pred)\n",
    "print(f\"Random Forest Precisión R²: {score:.4f}\")\n",
    "\n",
    "# Exportar modelo\n",
    "joblib.dump(modelo_rf, \"random_forest_model.pkl\")\n",
    "print(\"Modelo Random Forest guardado como 'random_forest_model.pkl'\")\n"
   ]
  }
 ],
 "metadata": {
  "kernelspec": {
   "display_name": "Python 3 (ipykernel)",
   "language": "python",
   "name": "python3"
  },
  "language_info": {
   "codemirror_mode": {
    "name": "ipython",
    "version": 3
   },
   "file_extension": ".py",
   "mimetype": "text/x-python",
   "name": "python",
   "nbconvert_exporter": "python",
   "pygments_lexer": "ipython3",
   "version": "3.10.12"
  }
 },
 "nbformat": 4,
 "nbformat_minor": 5
}
